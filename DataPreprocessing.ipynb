{
  "cells": [
    {
      "cell_type": "code",
      "source": [
        "USER_ID = ''\n",
        "JSON_PATH = '.json'\n",
        "OUTPUT_PATH = '.csv'"
      ],
      "metadata": {
        "id": "2XSuKZb5bP1p"
      },
      "execution_count": null,
      "outputs": []
    },
    {
      "cell_type": "code",
      "execution_count": null,
      "metadata": {
        "id": "sr3pcPrScKzl"
      },
      "outputs": [],
      "source": [
        "import json\n",
        "import csv"
      ]
    },
    {
      "cell_type": "code",
      "execution_count": null,
      "metadata": {
        "id": "ZhIYgUfKb9tJ"
      },
      "outputs": [],
      "source": [
        "json_file = open(JSON_PATH)\n",
        "messages_dict = json.load(json_file)"
      ]
    },
    {
      "cell_type": "code",
      "execution_count": null,
      "metadata": {
        "id": "yHaTVyhScOF1"
      },
      "outputs": [],
      "source": [
        "all_messages= messages_dict['messages']"
      ]
    },
    {
      "cell_type": "code",
      "execution_count": null,
      "metadata": {
        "id": "nXZLSSDgc06u"
      },
      "outputs": [],
      "source": [
        "user_msgs = []\n",
        "for msg in all_messages:\n",
        "  if msg['author']['id'] == USER_ID:\n",
        "    user_msgs.append((msg['content'], msg['id']))"
      ]
    },
    {
      "cell_type": "code",
      "execution_count": null,
      "metadata": {
        "id": "E16ZQ45NdS-a"
      },
      "outputs": [],
      "source": [
        "len(user_msgs)"
      ]
    },
    {
      "cell_type": "code",
      "source": [
        "#Remove Messages containing @\n",
        "def checkForBad(user_msg):\n",
        "  if user_msg[0].startswith(\"@\"):\n",
        "    return False\n",
        "  else:\n",
        "    return True"
      ],
      "metadata": {
        "id": "L4dh_KDCqRXr"
      },
      "execution_count": null,
      "outputs": []
    },
    {
      "cell_type": "code",
      "source": [
        "user_msgs = [x for x in user_msgs if checkForBad(x)]\n",
        "len(user_msgs)"
      ],
      "metadata": {
        "id": "2D7XifQFq_7v"
      },
      "execution_count": null,
      "outputs": []
    },
    {
      "cell_type": "code",
      "execution_count": null,
      "metadata": {
        "id": "LPMz9jqfdUH_"
      },
      "outputs": [],
      "source": [
        "#For every user msg, get the previous 7 messages for context"
      ]
    },
    {
      "cell_type": "code",
      "execution_count": null,
      "metadata": {
        "id": "IcG0f7tSegcJ"
      },
      "outputs": [],
      "source": [
        "final_data = []\n",
        "for user_msg in user_msgs:\n",
        "  user_msg_id = user_msg[1]\n",
        "  #find index of this msg in all_msgs\n",
        "  for index in range(0, len(all_messages)):\n",
        "    this_msg = all_messages[index]\n",
        "    if this_msg['id'] == user_msg_id:\n",
        "      #get 7 previous messages\n",
        "      previous_7 = []\n",
        "      for i in range (1, 8):\n",
        "        previous_7.append(all_messages[index-i]['content'])\n",
        "      final_data.append((user_msg[0], previous_7[0], previous_7[1], previous_7[2], previous_7[3], previous_7[4], previous_7[5], previous_7[6]))"
      ]
    },
    {
      "cell_type": "code",
      "execution_count": null,
      "metadata": {
        "id": "fpIRZpnjfGjY"
      },
      "outputs": [],
      "source": [
        "len(final_data)"
      ]
    },
    {
      "cell_type": "code",
      "source": [
        "#Remove records with empty messages\n",
        "empty_count = 0\n",
        "final_data_clean = []\n",
        "for data in final_data:\n",
        "  empty = False\n",
        "  for entry in data:\n",
        "    if entry == \"\":\n",
        "      if empty == False:\n",
        "        empty = True\n",
        "      else:\n",
        "        empty = True\n",
        "  if empty:\n",
        "    empty_count +=1\n",
        "  else:\n",
        "    final_data_clean.append(data)\n",
        "print(empty_count)\n",
        "len(final_data_clean)"
      ],
      "metadata": {
        "id": "mdb2IhLs2MhT"
      },
      "execution_count": null,
      "outputs": []
    },
    {
      "cell_type": "code",
      "source": [
        "#Output data as csv file\n",
        "with open(OUTPUT_PATH,'w+') as out:\n",
        "    csv_out=csv.writer(out)\n",
        "    csv_out.writerow(['response','context 1','context 2','context 3','context 4','context 5','context 6', 'context 7'])\n",
        "    for row in final_data_clean:\n",
        "        csv_out.writerow(row)\n",
        "\n"
      ],
      "metadata": {
        "id": "yiev9NxnxVg2"
      },
      "execution_count": null,
      "outputs": []
    }
  ],
  "metadata": {
    "colab": {
      "provenance": []
    },
    "kernelspec": {
      "display_name": "Python 3",
      "name": "python3"
    },
    "language_info": {
      "name": "python"
    }
  },
  "nbformat": 4,
  "nbformat_minor": 0
}